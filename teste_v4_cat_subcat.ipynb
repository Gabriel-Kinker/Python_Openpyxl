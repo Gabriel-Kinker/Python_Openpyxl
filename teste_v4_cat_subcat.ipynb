{
 "cells": [
  {
   "cell_type": "code",
   "execution_count": null,
   "metadata": {},
   "outputs": [],
   "source": [
    "import pandas as pd\n",
    "import os\n",
    "from openpyxl import * \n",
    "import numpy as np"
   ]
  },
  {
   "cell_type": "code",
   "execution_count": null,
   "metadata": {},
   "outputs": [],
   "source": [
    "#format numbers\n",
    "pd.options.display.float_format = '{:,.2f}'.format"
   ]
  },
  {
   "cell_type": "code",
   "execution_count": null,
   "metadata": {},
   "outputs": [],
   "source": [
    "#Lendo o Excel Receptor existente\n",
    "#wb = load_workbook('Revisão BP - Base Categoria data_12.xlsx')"
   ]
  },
  {
   "cell_type": "code",
   "execution_count": null,
   "metadata": {},
   "outputs": [],
   "source": []
  },
  {
   "cell_type": "code",
   "execution_count": null,
   "metadata": {},
   "outputs": [],
   "source": [
    "#Definição dos inputs de data\n",
    "rev1 = input('Revisão do (mêsatual): ')\n",
    "rev2 = input('Revisão do (mêsatual+1): ')\n",
    "rev3 = input('Revisão do (mêsatual+2): ')\n",
    "date1 = input('Mês e ano (Ex:022022): ')\n",
    "date2 = input('Mês e ano (Ex:022022): ')\n",
    "date3 = input('Mês e ano (Ex:022022): ')"
   ]
  },
  {
   "cell_type": "code",
   "execution_count": 5,
   "metadata": {},
   "outputs": [],
   "source": [
    "#nome1_cat = 'BASE_REV65_CATEGORIA_Revisão 10_122021.csv'\n",
    "#nome2_cat = 'BASE_REV65_CATEGORIA_Revisão 6_012022.csv'\n",
    "#nome3_cat = 'BASE_REV65_CATEGORIA_Revisão 3_022022.csv'"
   ]
  },
  {
   "cell_type": "code",
   "execution_count": 6,
   "metadata": {},
   "outputs": [],
   "source": [
    "nome1_cat = 'BASE_REV65_CATEGORIA_Revisão '+ rev1 + '_' + date1 + '.csv'\n",
    "nome2_cat = 'BASE_REV65_CATEGORIA_Revisão '+ rev2 + '_' + date2 + '.csv'\n",
    "nome3_cat = 'BASE_REV65_CATEGORIA_Revisão '+ rev3 + '_' + date3 + '.csv'"
   ]
  },
  {
   "cell_type": "code",
   "execution_count": 7,
   "metadata": {},
   "outputs": [],
   "source": [
    "#nome11_cat = 'BASE_REV65_CATEGORIA_Revisão 10_122021.xlsx'\n",
    "#nome22_cat = 'BASE_REV65_CATEGORIA_Revisão 6_012022.xlsx'\n",
    "#nome33_cat = 'BASE_REV65_CATEGORIA_Revisão 3_022022.xlsx'"
   ]
  },
  {
   "cell_type": "code",
   "execution_count": 8,
   "metadata": {},
   "outputs": [],
   "source": [
    "nome11_cat = 'BASE_REV65_CATEGORIA_Revisão '+ rev1 + '_' + date1 + '.xlsx'\n",
    "nome22_cat = 'BASE_REV65_CATEGORIA_Revisão '+ rev2 + '_' + date2 + '.xlsx'\n",
    "nome33_cat = 'BASE_REV65_CATEGORIA_Revisão '+ rev3 + '_' + date3 + '.xlsx'"
   ]
  },
  {
   "cell_type": "code",
   "execution_count": 9,
   "metadata": {},
   "outputs": [],
   "source": [
    "#nome1_subcat = 'BASE_REV65_SUBCATEGORIA_Revisão 10_122021.csv'\n",
    "#nome2_subcat = 'BASE_REV65_SUBCATEGORIA_Revisão 6_012022.csv'\n",
    "#nome3_subcat = 'BASE_REV65_SUBCATEGORIA_Revisão 3_022022.csv'"
   ]
  },
  {
   "cell_type": "code",
   "execution_count": 10,
   "metadata": {},
   "outputs": [],
   "source": [
    "nome1_subcat = 'BASE_REV65_SUBCATEGORIA_Revisão '+ rev1 + '_' + date1 + '.csv'\n",
    "nome2_subcat = 'BASE_REV65_SUBCATEGORIA_Revisão '+ rev2 + '_' + date2 + '.csv'\n",
    "nome3_subcat = 'BASE_REV65_SUBCATEGORIA_Revisão '+ rev3 + '_' + date3 + '.csv'"
   ]
  },
  {
   "cell_type": "code",
   "execution_count": 11,
   "metadata": {},
   "outputs": [],
   "source": [
    "#nome11_subcat = 'BASE_REV65_SUBCATEGORIA_Revisão 10_122021.xlsx'\n",
    "#nome22_subcat = 'BASE_REV65_SUBCATEGORIA_Revisão 6_012022.xlsx'\n",
    "#nome33_subcat = 'BASE_REV65_SUBCATEGORIA_Revisão 3_022022.xlsx'"
   ]
  },
  {
   "cell_type": "code",
   "execution_count": 12,
   "metadata": {},
   "outputs": [],
   "source": [
    "nome11_subcat = 'BASE_REV65_SUBCATEGORIA_Revisão '+ rev1 + '_' + date1 + '.xlsx'\n",
    "nome22_subcat = 'BASE_REV65_SUBCATEGORIA_Revisão '+ rev2 + '_' + date2 + '.xlsx'\n",
    "nome33_subcat = 'BASE_REV65_SUBCATEGORIA_Revisão '+ rev3 + '_' + date3 + '.xlsx'"
   ]
  },
  {
   "cell_type": "code",
   "execution_count": 13,
   "metadata": {},
   "outputs": [
    {
     "name": "stdout",
     "output_type": "stream",
     "text": [
      "Insira a data correspondente do arquivo(Se dia 15/12 -> 15_12): 16_12\n"
     ]
    }
   ],
   "source": [
    "#data em que a exportação foi realizada\n",
    "date = input('Insira a data correspondente do arquivo(Se dia 15/12 -> 15_12): ')"
   ]
  },
  {
   "cell_type": "code",
   "execution_count": 14,
   "metadata": {},
   "outputs": [],
   "source": [
    "wr1 = 'Revisão BP - Base Categoria '+ date + '.xlsx' \n",
    "wr2 = 'Revisão BP - Base Subcategoria '+ date + '.xlsx' "
   ]
  },
  {
   "cell_type": "code",
   "execution_count": null,
   "metadata": {},
   "outputs": [],
   "source": []
  },
  {
   "cell_type": "code",
   "execution_count": 15,
   "metadata": {},
   "outputs": [],
   "source": [
    "ws1 = 'Dez'\n",
    "ws2 = 'Jan'\n",
    "ws3 = 'Fev'"
   ]
  },
  {
   "cell_type": "code",
   "execution_count": 16,
   "metadata": {},
   "outputs": [],
   "source": [
    "#Para CAT\n",
    "#Criando um Excel do zero\n",
    "wb = Workbook() \n",
    "wb.save(filename=wr1)"
   ]
  },
  {
   "cell_type": "code",
   "execution_count": 17,
   "metadata": {},
   "outputs": [],
   "source": [
    "#Carregando/lendo o Excel criado\n",
    "wb = load_workbook(wr1)"
   ]
  },
  {
   "cell_type": "code",
   "execution_count": 18,
   "metadata": {},
   "outputs": [
    {
     "name": "stderr",
     "output_type": "stream",
     "text": [
      "<ipython-input-18-697e9d33b3fc>:3: DeprecationWarning: Call to deprecated function get_sheet_names (Use wb.sheetnames).\n",
      "  wb.get_sheet_names()\n"
     ]
    },
    {
     "data": {
      "text/plain": [
       "['Sheet']"
      ]
     },
     "execution_count": 18,
     "metadata": {},
     "output_type": "execute_result"
    }
   ],
   "source": [
    "#Sheet_name = wb.sheetnames\n",
    "#print(Sheet_name)\n",
    "wb.get_sheet_names()\n",
    "#Para conferir as abas"
   ]
  },
  {
   "cell_type": "code",
   "execution_count": 19,
   "metadata": {},
   "outputs": [],
   "source": [
    "#Lendo os inputs em csv\n",
    "df1 = pd.read_csv(nome1_cat, sep=\";\", encoding='latin-1', decimal=\",\")\n",
    "df2 = pd.read_csv(nome2_cat, sep=\";\", encoding='latin-1', decimal=\",\")\n",
    "df3 = pd.read_csv(nome3_cat, sep=\";\", encoding='latin-1', decimal=\",\")"
   ]
  },
  {
   "cell_type": "code",
   "execution_count": 20,
   "metadata": {},
   "outputs": [],
   "source": [
    "#Converter csv para excel\n",
    "df1_writer = pd.ExcelWriter(nome11_cat, engine='openpyxl')\n",
    "df1.to_excel(df1_writer, sheet_name=ws1, index=False)\n",
    "df1_writer.save()"
   ]
  },
  {
   "cell_type": "code",
   "execution_count": 21,
   "metadata": {},
   "outputs": [],
   "source": [
    "#Converter csv para excel\n",
    "df2_writer = pd.ExcelWriter(nome22_cat, engine='openpyxl')\n",
    "df2.to_excel(df2_writer, sheet_name=ws2, index=False)\n",
    "df2_writer.save()"
   ]
  },
  {
   "cell_type": "code",
   "execution_count": 22,
   "metadata": {},
   "outputs": [],
   "source": [
    "#Converter csv para excel\n",
    "df3_writer = pd.ExcelWriter(nome33_cat, engine='openpyxl')\n",
    "df3.to_excel(df3_writer, sheet_name=ws3, index=False)\n",
    "df3_writer.save()"
   ]
  },
  {
   "cell_type": "code",
   "execution_count": 23,
   "metadata": {},
   "outputs": [],
   "source": [
    "#Criando a engine writer com o Excel existente/criado receptor dos dados\n",
    "writer = pd.ExcelWriter(wr1, engine='openpyxl')\n",
    "#dfinal.to_excel(writer)\n",
    "#writer = pd.ExcelWriter('teste_manual.xlsx', engine='xlsxwriter')"
   ]
  },
  {
   "cell_type": "code",
   "execution_count": 24,
   "metadata": {},
   "outputs": [],
   "source": [
    "writer.book = wb"
   ]
  },
  {
   "cell_type": "code",
   "execution_count": 25,
   "metadata": {},
   "outputs": [
    {
     "name": "stdout",
     "output_type": "stream",
     "text": [
      "<class 'pandas.core.frame.DataFrame'>\n"
     ]
    }
   ],
   "source": [
    "print(type(df2))"
   ]
  },
  {
   "cell_type": "code",
   "execution_count": 26,
   "metadata": {},
   "outputs": [],
   "source": [
    "#Alocando os dataframes para o excel e respectivas abas do excel receptor\n",
    "df1.to_excel(writer, sheet_name=ws1, index=False)\n",
    "df2.to_excel(writer, sheet_name=ws2, index=False)\n",
    "df3.to_excel(writer, sheet_name=ws3, index=False)"
   ]
  },
  {
   "cell_type": "code",
   "execution_count": 27,
   "metadata": {},
   "outputs": [],
   "source": [
    "#writer.save()"
   ]
  },
  {
   "cell_type": "code",
   "execution_count": 28,
   "metadata": {},
   "outputs": [],
   "source": [
    "#writer.close()"
   ]
  },
  {
   "cell_type": "code",
   "execution_count": 29,
   "metadata": {},
   "outputs": [
    {
     "name": "stderr",
     "output_type": "stream",
     "text": [
      "<ipython-input-29-0c3501b17491>:1: DeprecationWarning: Call to deprecated function get_sheet_names (Use wb.sheetnames).\n",
      "  wb.get_sheet_names()\n"
     ]
    },
    {
     "data": {
      "text/plain": [
       "['Sheet', 'Dez', 'Jan', 'Fev']"
      ]
     },
     "execution_count": 29,
     "metadata": {},
     "output_type": "execute_result"
    }
   ],
   "source": [
    "wb.get_sheet_names()"
   ]
  },
  {
   "cell_type": "code",
   "execution_count": 30,
   "metadata": {},
   "outputs": [
    {
     "name": "stderr",
     "output_type": "stream",
     "text": [
      "<ipython-input-30-3d6a62f7024c>:2: DeprecationWarning: Call to deprecated function get_sheet_by_name (Use wb[sheetname]).\n",
      "  std = wb.get_sheet_by_name('Sheet')\n"
     ]
    }
   ],
   "source": [
    "#Variável para excluir uma empty sheet\n",
    "std = wb.get_sheet_by_name('Sheet')"
   ]
  },
  {
   "cell_type": "code",
   "execution_count": 31,
   "metadata": {},
   "outputs": [
    {
     "name": "stderr",
     "output_type": "stream",
     "text": [
      "<ipython-input-31-f371bcf2f9a8>:2: DeprecationWarning: Call to deprecated function remove_sheet (Use wb.remove(worksheet) or del wb[sheetname]).\n",
      "  wb.remove_sheet(std)\n"
     ]
    }
   ],
   "source": [
    "#Removendo\n",
    "wb.remove_sheet(std)"
   ]
  },
  {
   "cell_type": "code",
   "execution_count": 32,
   "metadata": {},
   "outputs": [
    {
     "name": "stderr",
     "output_type": "stream",
     "text": [
      "<ipython-input-32-64c01df44642>:2: DeprecationWarning: Call to deprecated function get_sheet_names (Use wb.sheetnames).\n",
      "  wb.get_sheet_names()\n"
     ]
    },
    {
     "data": {
      "text/plain": [
       "['Dez', 'Jan', 'Fev']"
      ]
     },
     "execution_count": 32,
     "metadata": {},
     "output_type": "execute_result"
    }
   ],
   "source": [
    "#Check\n",
    "wb.get_sheet_names()"
   ]
  },
  {
   "cell_type": "code",
   "execution_count": 33,
   "metadata": {},
   "outputs": [],
   "source": [
    "#rows = 1\n",
    "#for row in range(1, rows):\n",
    "#    wb['Dez'][\"E{}\".format(row)].number_format = '#,##0.00'\n",
    "#    row+=1"
   ]
  },
  {
   "cell_type": "code",
   "execution_count": 34,
   "metadata": {},
   "outputs": [],
   "source": [
    "#wb = load_workbook(wr1)\n",
    "#wb[ws1].cell(1, 4).number_format = u'#,##0.00€'"
   ]
  },
  {
   "cell_type": "code",
   "execution_count": 35,
   "metadata": {},
   "outputs": [],
   "source": [
    "#rows = 1\n",
    "#for row in range(1, rows):\n",
    "#    wb[ws1][\"E{}\".format(row)].value = float(wb[ws1][\"E{}\".format(row)].value)\n",
    "#    wb[ws1][\"E{}\".format(row)].number_format = '#,##0.00'\n",
    "#    rows+=1"
   ]
  },
  {
   "cell_type": "code",
   "execution_count": null,
   "metadata": {},
   "outputs": [],
   "source": []
  },
  {
   "cell_type": "code",
   "execution_count": 36,
   "metadata": {},
   "outputs": [],
   "source": [
    "#from openpyxl.utils import get_column_letter"
   ]
  },
  {
   "cell_type": "code",
   "execution_count": 37,
   "metadata": {},
   "outputs": [],
   "source": [
    "#for col in range(4):\n",
    "#    for row in range(1, wb['Dez'].max_row):\n",
    "#        cell = wb['Dez'].cell(row=row, column=4)\n",
    "#        cell.number_format = '#.##0,00'"
   ]
  },
  {
   "cell_type": "code",
   "execution_count": 38,
   "metadata": {},
   "outputs": [],
   "source": [
    "#ws1 = wb['Dez']\n",
    "#_cell = ws1.cell(row=1, column=4).value\n",
    "#_cell.number_format = '0.00E+00'"
   ]
  },
  {
   "cell_type": "code",
   "execution_count": 39,
   "metadata": {},
   "outputs": [],
   "source": [
    "writer.save()\n",
    "writer.close()"
   ]
  },
  {
   "cell_type": "code",
   "execution_count": 40,
   "metadata": {},
   "outputs": [],
   "source": [
    "#row = row \n",
    "#for row in wb['Dez'](row, col):\n",
    "#    wb['Dez'].cell(row=row, column=col).value = float(wb['Dez'].cell(row=row, column=col).value)\n",
    "#    row = row + 1"
   ]
  },
  {
   "cell_type": "code",
   "execution_count": 41,
   "metadata": {},
   "outputs": [],
   "source": [
    "#Salvando\n",
    "wb.save(wr1)"
   ]
  },
  {
   "cell_type": "code",
   "execution_count": 42,
   "metadata": {},
   "outputs": [],
   "source": [
    "#std = wb.get_sheet_by_name('Dezembro', 'Janeiro', 'Fevereiro')"
   ]
  },
  {
   "cell_type": "code",
   "execution_count": 43,
   "metadata": {},
   "outputs": [],
   "source": [
    "#wb.remove_sheet(std)"
   ]
  },
  {
   "cell_type": "code",
   "execution_count": 44,
   "metadata": {},
   "outputs": [],
   "source": [
    "##############################################################################################################################"
   ]
  },
  {
   "cell_type": "code",
   "execution_count": 45,
   "metadata": {},
   "outputs": [],
   "source": [
    "#Para SUBCAT"
   ]
  },
  {
   "cell_type": "code",
   "execution_count": 46,
   "metadata": {},
   "outputs": [],
   "source": [
    "wb2 = Workbook() \n",
    "wb2.save(filename=wr2)"
   ]
  },
  {
   "cell_type": "code",
   "execution_count": 47,
   "metadata": {},
   "outputs": [],
   "source": [
    "wb2 = load_workbook(wr2)"
   ]
  },
  {
   "cell_type": "code",
   "execution_count": 48,
   "metadata": {},
   "outputs": [
    {
     "name": "stderr",
     "output_type": "stream",
     "text": [
      "<ipython-input-48-a23386075390>:1: DeprecationWarning: Call to deprecated function get_sheet_names (Use wb.sheetnames).\n",
      "  wb2.get_sheet_names()\n"
     ]
    },
    {
     "data": {
      "text/plain": [
       "['Sheet']"
      ]
     },
     "execution_count": 48,
     "metadata": {},
     "output_type": "execute_result"
    }
   ],
   "source": [
    "wb2.get_sheet_names()"
   ]
  },
  {
   "cell_type": "code",
   "execution_count": 49,
   "metadata": {},
   "outputs": [],
   "source": [
    "df11 = pd.read_csv(nome1_subcat, sep=\";\", encoding='latin-1', decimal=\",\")\n",
    "df22 = pd.read_csv(nome2_subcat, sep=\";\", encoding='latin-1', decimal=\",\")\n",
    "df33 = pd.read_csv(nome3_subcat, sep=\";\", encoding='latin-1', decimal=\",\")"
   ]
  },
  {
   "cell_type": "code",
   "execution_count": 50,
   "metadata": {},
   "outputs": [],
   "source": [
    "df11_writer = pd.ExcelWriter(nome11_subcat, engine='openpyxl')\n",
    "df11.to_excel(df11_writer, sheet_name=ws1, index=False)\n",
    "df11_writer.save()"
   ]
  },
  {
   "cell_type": "code",
   "execution_count": 51,
   "metadata": {},
   "outputs": [],
   "source": [
    "df22_writer = pd.ExcelWriter(nome22_subcat, engine='openpyxl')\n",
    "df22.to_excel(df22_writer, sheet_name=ws2, index=False)\n",
    "df22_writer.save()"
   ]
  },
  {
   "cell_type": "code",
   "execution_count": 52,
   "metadata": {},
   "outputs": [],
   "source": [
    "df33_writer = pd.ExcelWriter(nome33_subcat, engine='openpyxl')\n",
    "df33.to_excel(df33_writer, sheet_name=ws3, index=False)\n",
    "df33_writer.save()"
   ]
  },
  {
   "cell_type": "code",
   "execution_count": 53,
   "metadata": {},
   "outputs": [],
   "source": [
    "writer2 = pd.ExcelWriter(wr2, engine='openpyxl')"
   ]
  },
  {
   "cell_type": "code",
   "execution_count": 54,
   "metadata": {},
   "outputs": [],
   "source": [
    "writer2.book = wb2"
   ]
  },
  {
   "cell_type": "code",
   "execution_count": 55,
   "metadata": {},
   "outputs": [
    {
     "name": "stdout",
     "output_type": "stream",
     "text": [
      "<class 'pandas.core.frame.DataFrame'>\n"
     ]
    }
   ],
   "source": [
    "print(type(df22))"
   ]
  },
  {
   "cell_type": "code",
   "execution_count": 56,
   "metadata": {},
   "outputs": [],
   "source": [
    "df11.to_excel(writer2, sheet_name=ws1, index=False)\n",
    "df22.to_excel(writer2, sheet_name=ws2, index=False)\n",
    "df33.to_excel(writer2, sheet_name=ws3, index=False)"
   ]
  },
  {
   "cell_type": "code",
   "execution_count": 57,
   "metadata": {},
   "outputs": [
    {
     "name": "stderr",
     "output_type": "stream",
     "text": [
      "<ipython-input-57-a23386075390>:1: DeprecationWarning: Call to deprecated function get_sheet_names (Use wb.sheetnames).\n",
      "  wb2.get_sheet_names()\n"
     ]
    },
    {
     "data": {
      "text/plain": [
       "['Sheet', 'Dez', 'Jan', 'Fev']"
      ]
     },
     "execution_count": 57,
     "metadata": {},
     "output_type": "execute_result"
    }
   ],
   "source": [
    "wb2.get_sheet_names()"
   ]
  },
  {
   "cell_type": "code",
   "execution_count": 58,
   "metadata": {},
   "outputs": [],
   "source": [
    "writer2.save()"
   ]
  },
  {
   "cell_type": "code",
   "execution_count": 59,
   "metadata": {},
   "outputs": [],
   "source": [
    "writer2.close()"
   ]
  },
  {
   "cell_type": "code",
   "execution_count": 60,
   "metadata": {},
   "outputs": [
    {
     "name": "stderr",
     "output_type": "stream",
     "text": [
      "<ipython-input-60-a23386075390>:1: DeprecationWarning: Call to deprecated function get_sheet_names (Use wb.sheetnames).\n",
      "  wb2.get_sheet_names()\n"
     ]
    },
    {
     "data": {
      "text/plain": [
       "['Sheet', 'Dez', 'Jan', 'Fev']"
      ]
     },
     "execution_count": 60,
     "metadata": {},
     "output_type": "execute_result"
    }
   ],
   "source": [
    "wb2.get_sheet_names()"
   ]
  },
  {
   "cell_type": "code",
   "execution_count": 61,
   "metadata": {},
   "outputs": [
    {
     "name": "stderr",
     "output_type": "stream",
     "text": [
      "<ipython-input-61-292560728f7f>:1: DeprecationWarning: Call to deprecated function get_sheet_by_name (Use wb[sheetname]).\n",
      "  std2 = wb2.get_sheet_by_name('Sheet')\n"
     ]
    }
   ],
   "source": [
    "std2 = wb2.get_sheet_by_name('Sheet')"
   ]
  },
  {
   "cell_type": "code",
   "execution_count": 62,
   "metadata": {},
   "outputs": [
    {
     "name": "stderr",
     "output_type": "stream",
     "text": [
      "<ipython-input-62-3115a1ade94e>:1: DeprecationWarning: Call to deprecated function remove_sheet (Use wb.remove(worksheet) or del wb[sheetname]).\n",
      "  wb2.remove_sheet(std2)\n"
     ]
    }
   ],
   "source": [
    "wb2.remove_sheet(std2)"
   ]
  },
  {
   "cell_type": "code",
   "execution_count": 63,
   "metadata": {},
   "outputs": [
    {
     "name": "stderr",
     "output_type": "stream",
     "text": [
      "<ipython-input-63-a23386075390>:1: DeprecationWarning: Call to deprecated function get_sheet_names (Use wb.sheetnames).\n",
      "  wb2.get_sheet_names()\n"
     ]
    },
    {
     "data": {
      "text/plain": [
       "['Dez', 'Jan', 'Fev']"
      ]
     },
     "execution_count": 63,
     "metadata": {},
     "output_type": "execute_result"
    }
   ],
   "source": [
    "wb2.get_sheet_names()"
   ]
  },
  {
   "cell_type": "code",
   "execution_count": 64,
   "metadata": {},
   "outputs": [],
   "source": [
    "wb2.save(wr2)"
   ]
  },
  {
   "cell_type": "code",
   "execution_count": 65,
   "metadata": {},
   "outputs": [],
   "source": [
    "#Abrir os respectivos outputs:\n",
    "#import os\n",
    "#os.startfile('Revisão BP - Base Subcategoria data_12.xlsx')\n",
    "#os.startfile('Revisão BP - Base Categoria data_12.xlsx')"
   ]
  },
  {
   "cell_type": "code",
   "execution_count": 66,
   "metadata": {},
   "outputs": [
    {
     "name": "stdout",
     "output_type": "stream",
     "text": [
      "Insira a data correspondente do arquivo (Se dia 15/12 -> 15_12): 16_12\n"
     ]
    }
   ],
   "source": [
    "###Abrir os outputs.\n",
    "import os\n",
    "date = input('Insira a data correspondente do arquivo (Se dia 15/12 -> 15_12): ')\n",
    "os.startfile('Revisão BP - Base Subcategoria '+ date +'.xlsx')\n",
    "os.startfile('Revisão BP - Base Categoria '+ date +'.xlsx')"
   ]
  },
  {
   "cell_type": "code",
   "execution_count": null,
   "metadata": {},
   "outputs": [],
   "source": []
  },
  {
   "cell_type": "code",
   "execution_count": null,
   "metadata": {},
   "outputs": [],
   "source": []
  },
  {
   "cell_type": "code",
   "execution_count": null,
   "metadata": {},
   "outputs": [],
   "source": []
  },
  {
   "cell_type": "code",
   "execution_count": null,
   "metadata": {},
   "outputs": [],
   "source": []
  },
  {
   "cell_type": "code",
   "execution_count": null,
   "metadata": {},
   "outputs": [],
   "source": []
  },
  {
   "cell_type": "code",
   "execution_count": null,
   "metadata": {},
   "outputs": [],
   "source": []
  },
  {
   "cell_type": "code",
   "execution_count": null,
   "metadata": {},
   "outputs": [],
   "source": []
  },
  {
   "cell_type": "code",
   "execution_count": null,
   "metadata": {},
   "outputs": [],
   "source": []
  },
  {
   "cell_type": "code",
   "execution_count": null,
   "metadata": {},
   "outputs": [],
   "source": []
  },
  {
   "cell_type": "code",
   "execution_count": null,
   "metadata": {},
   "outputs": [],
   "source": []
  },
  {
   "cell_type": "code",
   "execution_count": null,
   "metadata": {},
   "outputs": [],
   "source": []
  },
  {
   "cell_type": "code",
   "execution_count": null,
   "metadata": {},
   "outputs": [],
   "source": []
  }
 ],
 "metadata": {
  "kernelspec": {
   "display_name": "Python 3",
   "language": "python",
   "name": "python3"
  },
  "language_info": {
   "codemirror_mode": {
    "name": "ipython",
    "version": 3
   },
   "file_extension": ".py",
   "mimetype": "text/x-python",
   "name": "python",
   "nbconvert_exporter": "python",
   "pygments_lexer": "ipython3",
   "version": "3.8.5"
  }
 },
 "nbformat": 4,
 "nbformat_minor": 4
}
